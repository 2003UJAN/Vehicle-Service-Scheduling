{
  "cells": [
    {
      "cell_type": "markdown",
      "metadata": {
        "id": "view-in-github",
        "colab_type": "text"
      },
      "source": [
        "<a href=\"https://colab.research.google.com/github/2003UJAN/Vehicle-Service-Scheduling/blob/main/Dataset_Generator_Code.ipynb\" target=\"_parent\"><img src=\"https://colab.research.google.com/assets/colab-badge.svg\" alt=\"Open In Colab\"/></a>"
      ]
    },
    {
      "cell_type": "markdown",
      "source": [
        "**Importing Libraries**"
      ],
      "metadata": {
        "id": "WAdtwJ58ndvC"
      }
    },
    {
      "cell_type": "code",
      "source": [
        "import pandas as pd\n",
        "import random\n",
        "from datetime import datetime, timedelta"
      ],
      "metadata": {
        "id": "Bl1YEbsunaCy"
      },
      "execution_count": 13,
      "outputs": []
    },
    {
      "cell_type": "markdown",
      "source": [
        "**Define possible values for categorical features**"
      ],
      "metadata": {
        "id": "Sh93umHYnio_"
      }
    },
    {
      "cell_type": "code",
      "source": [
        "vehicle_models = [\"Car\", \"SUV\", \"Van\", \"Truck\", \"Bus\", \"Motorcycle\"]\n",
        "maintenance_history = [\"Good\", \"Average\", \"Poor\"]\n",
        "fuel_types = [\"Diesel\", \"Petrol\", \"Electric\"]\n",
        "transmission_types = [\"Automatic\", \"Manual\"]\n",
        "tire_conditions = [\"New\", \"Good\", \"Worn Out\"]\n",
        "brake_conditions = [\"New\", \"Good\", \"Worn Out\"]\n",
        "battery_statuses = [\"New\", \"Good\", \"Weak\"]\n",
        "owner_types = [\"First\", \"Second\", \"Third\"]"
      ],
      "metadata": {
        "id": "IB-HtpFunbt5"
      },
      "execution_count": 14,
      "outputs": []
    },
    {
      "cell_type": "markdown",
      "source": [
        "**Function to generate random date within the past 5 years**"
      ],
      "metadata": {
        "id": "-JKr3Bm5nnd8"
      }
    },
    {
      "cell_type": "code",
      "source": [
        "def random_date(days_range=1825):\n",
        "    return datetime.today() - timedelta(days=random.randint(0, days_range))"
      ],
      "metadata": {
        "id": "cL6Qt1Kan3b_"
      },
      "execution_count": 15,
      "outputs": []
    },
    {
      "cell_type": "markdown",
      "source": [
        "**Generate synthetic data**"
      ],
      "metadata": {
        "id": "hgHNCF5nn59h"
      }
    },
    {
      "cell_type": "code",
      "source": [
        "data = []\n",
        "num_records = 50000\n",
        "\n",
        "for i in range(num_records):\n",
        "    vehicle = {\n",
        "        \"Vehicle_ID\": i + 1,\n",
        "        \"Vehicle_Model\": random.choice(vehicle_models),\n",
        "        \"Mileage\": random.randint(5000, 200000),  # in km\n",
        "        \"Maintenance_History\": random.choice(maintenance_history),\n",
        "        \"Reported_Issues\": random.randint(0, 10),\n",
        "        \"Vehicle_Age\": random.randint(1, 20),\n",
        "        \"Fuel_Type\": random.choice(fuel_types),\n",
        "        \"Transmission_Type\": random.choice(transmission_types),\n",
        "        \"Engine_Size\": random.randint(1000, 5000),\n",
        "        \"Odometer_Reading\": random.randint(1000, 300000),\n",
        "        \"Last_Service_Date\": random_date().strftime(\"%Y-%m-%d\"),\n",
        "        \"Warranty_Expiry_Date\": random_date(365 * 3).strftime(\"%Y-%m-%d\"),\n",
        "        \"Owner_Type\": random.choice(owner_types),\n",
        "        \"Insurance_Premium\": random.randint(5000, 50000),\n",
        "        \"Service_History\": random.randint(1, 10),\n",
        "        \"Accident_History\": random.randint(0, 5),\n",
        "        \"Fuel_Efficiency\": round(random.uniform(5, 25), 2),\n",
        "        \"Tire_Condition\": random.choice(tire_conditions),\n",
        "        \"Brake_Condition\": random.choice(brake_conditions),\n",
        "        \"Battery_Status\": random.choice(battery_statuses),\n",
        "    }\n",
        "\n",
        "    need_service = 0\n",
        "    if vehicle[\"Reported_Issues\"] > 5 or vehicle[\"Maintenance_History\"] == \"Poor\" or vehicle[\"Accident_History\"] > 2:\n",
        "        need_service = 1\n",
        "\n",
        "    vehicle[\"Need_Service\"] = need_service\n",
        "\n",
        "    if need_service:\n",
        "        if vehicle[\"Reported_Issues\"] >= 8:\n",
        "            priority = 1\n",
        "        elif vehicle[\"Reported_Issues\"] >= 5:\n",
        "            priority = 2\n",
        "        else:\n",
        "            priority = 3\n",
        "    elif vehicle[\"Maintenance_History\"] == \"Poor\":\n",
        "        priority = 1\n",
        "    elif vehicle[\"Accident_History\"] >= 3:\n",
        "        priority = 2\n",
        "    else:\n",
        "        priority = random.randint(3, 5)\n",
        "\n",
        "    vehicle[\"Service_Priority\"] = priority\n",
        "\n",
        "    estimated_time = random.uniform(1, 5) if need_service else random.uniform(0.5, 2)\n",
        "    vehicle[\"Estimated_Service_Time\"] = round(estimated_time, 2)\n",
        "\n",
        "    data.append(vehicle)"
      ],
      "metadata": {
        "id": "BfmxrrT7n9DW"
      },
      "execution_count": 16,
      "outputs": []
    },
    {
      "cell_type": "markdown",
      "source": [
        "**Convert to DataFrame**"
      ],
      "metadata": {
        "id": "xQ5igagaoAK8"
      }
    },
    {
      "cell_type": "code",
      "source": [
        "df = pd.DataFrame(data)"
      ],
      "metadata": {
        "id": "AkBf3D4toXBk"
      },
      "execution_count": 17,
      "outputs": []
    },
    {
      "cell_type": "markdown",
      "source": [
        "**Save to CSV file**"
      ],
      "metadata": {
        "id": "bqBDzXQUoaYL"
      }
    },
    {
      "cell_type": "code",
      "source": [
        "csv_filename = \"vehicle_service_data.csv\"\n",
        "df.to_csv(csv_filename, index=False)\n",
        "\n",
        "print(f\"Dataset saved as {csv_filename}\")"
      ],
      "metadata": {
        "colab": {
          "base_uri": "https://localhost:8080/"
        },
        "id": "azzcz9S4odvx",
        "outputId": "d3a9460e-1223-4e28-9a5f-ed86a2332bee"
      },
      "execution_count": 18,
      "outputs": [
        {
          "output_type": "stream",
          "name": "stdout",
          "text": [
            "Dataset saved as vehicle_service_data.csv\n"
          ]
        }
      ]
    }
  ],
  "metadata": {
    "colab": {
      "name": "Welcome To Colab",
      "provenance": [],
      "include_colab_link": true
    },
    "kernelspec": {
      "display_name": "Python 3",
      "name": "python3"
    }
  },
  "nbformat": 4,
  "nbformat_minor": 0
}